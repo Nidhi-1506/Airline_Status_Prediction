{
 "cells": [
  {
   "cell_type": "code",
   "execution_count": 1,
   "id": "79bbd451",
   "metadata": {},
   "outputs": [],
   "source": [
    "import pandas as pd\n",
    "import matplotlib.pyplot as plt\n",
    "import seaborn as sns\n",
    "import numpy as np\n",
    "import scipy\n",
    "import sklearn\n",
    "import os"
   ]
  },
  {
   "cell_type": "code",
   "execution_count": 2,
   "id": "a29331d1",
   "metadata": {},
   "outputs": [],
   "source": [
    "DATA_DIR = \"./raw_data_2010_2023/\""
   ]
  },
  {
   "cell_type": "code",
   "execution_count": 3,
   "id": "f58059a6",
   "metadata": {},
   "outputs": [],
   "source": [
    "drop = [ 'SLC','CWA','MEM', 'BTV']"
   ]
  },
  {
   "cell_type": "code",
   "execution_count": 4,
   "id": "a9d07608",
   "metadata": {},
   "outputs": [],
   "source": [
    "def find_csv_files(folder_path, suffix=\".csv\"):\n",
    "    \"\"\"\n",
    "    Find all CSV files in the given folder path.\n",
    "\n",
    "    Args:\n",
    "    - folder_path (str): Path to the folder where CSV files are located.\n",
    "    - suffix (str): Suffix to filter files (default is '.csv').\n",
    "\n",
    "    Returns:\n",
    "    - list: List of CSV files with the given suffix.\n",
    "    \"\"\"\n",
    "    csv_files = []\n",
    "    for root, dirs, files in os.walk(folder_path):\n",
    "        for file in files:\n",
    "            if file.endswith(suffix):\n",
    "                csv_files.append(os.path.join(root, file))\n",
    "    return csv_files"
   ]
  },
  {
   "cell_type": "code",
   "execution_count": 5,
   "id": "56dbfdd7",
   "metadata": {},
   "outputs": [],
   "source": [
    "def plot_top_n_categorical(data, column, n=None, figsize=(15, 5)):\n",
    "    \"\"\"\n",
    "    Plot the distribution of the top N categories of a categorical variable.\n",
    "\n",
    "    Args:\n",
    "    - data (pandas DataFrame): DataFrame containing the categorical variable.\n",
    "    - column (str): Name of the categorical variable column.\n",
    "    - n (int or None): Number of top categories to plot. If None, plot all categories (default is None).\n",
    "    - figsize (tuple): Width and height of the figure in inches (default is (10, 6)).\n",
    "\n",
    "    Returns:\n",
    "    - None (displays the plot).\n",
    "    \"\"\"\n",
    "    if n is None:\n",
    "        categories = data[column].value_counts().index\n",
    "    else:\n",
    "        categories = data[column].value_counts().nlargest(n).index\n",
    "        \n",
    "    data_filtered = data[data[column].isin(categories)]\n",
    "    \n",
    "    plt.figure(figsize=figsize)\n",
    "    sns.countplot(data=data_filtered, x=column, order=categories)\n",
    "    plt.title(f'Top {len(categories)} Categories of {column}')\n",
    "    plt.xlabel(column)\n",
    "    plt.ylabel('Count')\n",
    "    plt.xticks(rotation=90)\n",
    "    plt.show()\n"
   ]
  },
  {
   "cell_type": "code",
   "execution_count": 6,
   "id": "01a207f9",
   "metadata": {},
   "outputs": [],
   "source": [
    "all_data_files = find_csv_files(DATA_DIR, suffix=\"_cleaned.csv\")"
   ]
  },
  {
   "cell_type": "code",
   "execution_count": 7,
   "id": "88e59d5d",
   "metadata": {},
   "outputs": [],
   "source": [
    "all_dfs = []\n",
    "for f in all_data_files:\n",
    "    all_dfs.append(pd.read_csv(f, parse_dates=[\"Date (MM/DD/YYYY)\"]))"
   ]
  },
  {
   "cell_type": "code",
   "execution_count": 8,
   "id": "971bbf08",
   "metadata": {},
   "outputs": [],
   "source": [
    "all_merged = pd.concat(all_dfs, ignore_index=True)"
   ]
  },
  {
   "cell_type": "code",
   "execution_count": 9,
   "id": "b24d2aab",
   "metadata": {},
   "outputs": [
    {
     "data": {
      "text/html": [
       "<div>\n",
       "<style scoped>\n",
       "    .dataframe tbody tr th:only-of-type {\n",
       "        vertical-align: middle;\n",
       "    }\n",
       "\n",
       "    .dataframe tbody tr th {\n",
       "        vertical-align: top;\n",
       "    }\n",
       "\n",
       "    .dataframe thead th {\n",
       "        text-align: right;\n",
       "    }\n",
       "</style>\n",
       "<table border=\"1\" class=\"dataframe\">\n",
       "  <thead>\n",
       "    <tr style=\"text-align: right;\">\n",
       "      <th></th>\n",
       "      <th>Carrier Code</th>\n",
       "      <th>Date (MM/DD/YYYY)</th>\n",
       "      <th>Flight Number</th>\n",
       "      <th>Tail Number</th>\n",
       "      <th>Origin Airport</th>\n",
       "      <th>Scheduled Arrival Time</th>\n",
       "      <th>Actual Arrival Time</th>\n",
       "      <th>Scheduled Elapsed Time (Minutes)</th>\n",
       "      <th>Actual Elapsed Time (Minutes)</th>\n",
       "      <th>Arrival Delay (Minutes)</th>\n",
       "      <th>Wheels-on Time</th>\n",
       "      <th>Taxi-In time (Minutes)</th>\n",
       "      <th>Delay Carrier (Minutes)</th>\n",
       "      <th>Delay Weather (Minutes)</th>\n",
       "      <th>Delay National Aviation System (Minutes)</th>\n",
       "      <th>Delay Security (Minutes)</th>\n",
       "      <th>Delay Late Aircraft Arrival (Minutes)</th>\n",
       "    </tr>\n",
       "  </thead>\n",
       "  <tbody>\n",
       "    <tr>\n",
       "      <th>0</th>\n",
       "      <td>B6</td>\n",
       "      <td>2010-01-01</td>\n",
       "      <td>22</td>\n",
       "      <td>N608JB</td>\n",
       "      <td>JFK</td>\n",
       "      <td>00:01</td>\n",
       "      <td>02:41</td>\n",
       "      <td>76</td>\n",
       "      <td>72</td>\n",
       "      <td>160</td>\n",
       "      <td>02:37</td>\n",
       "      <td>4</td>\n",
       "      <td>160</td>\n",
       "      <td>0</td>\n",
       "      <td>0</td>\n",
       "      <td>0</td>\n",
       "      <td>0</td>\n",
       "    </tr>\n",
       "    <tr>\n",
       "      <th>1</th>\n",
       "      <td>B6</td>\n",
       "      <td>2010-01-01</td>\n",
       "      <td>42</td>\n",
       "      <td>N586JB</td>\n",
       "      <td>JFK</td>\n",
       "      <td>11:52</td>\n",
       "      <td>13:05</td>\n",
       "      <td>71</td>\n",
       "      <td>78</td>\n",
       "      <td>73</td>\n",
       "      <td>12:59</td>\n",
       "      <td>6</td>\n",
       "      <td>66</td>\n",
       "      <td>0</td>\n",
       "      <td>7</td>\n",
       "      <td>0</td>\n",
       "      <td>0</td>\n",
       "    </tr>\n",
       "    <tr>\n",
       "      <th>2</th>\n",
       "      <td>B6</td>\n",
       "      <td>2010-01-01</td>\n",
       "      <td>44</td>\n",
       "      <td>N586JB</td>\n",
       "      <td>JFK</td>\n",
       "      <td>08:55</td>\n",
       "      <td>09:11</td>\n",
       "      <td>75</td>\n",
       "      <td>60</td>\n",
       "      <td>16</td>\n",
       "      <td>09:09</td>\n",
       "      <td>2</td>\n",
       "      <td>16</td>\n",
       "      <td>0</td>\n",
       "      <td>0</td>\n",
       "      <td>0</td>\n",
       "      <td>0</td>\n",
       "    </tr>\n",
       "    <tr>\n",
       "      <th>3</th>\n",
       "      <td>B6</td>\n",
       "      <td>2010-01-01</td>\n",
       "      <td>62</td>\n",
       "      <td>N284JB</td>\n",
       "      <td>JFK</td>\n",
       "      <td>16:23</td>\n",
       "      <td>16:21</td>\n",
       "      <td>84</td>\n",
       "      <td>60</td>\n",
       "      <td>-2</td>\n",
       "      <td>16:17</td>\n",
       "      <td>4</td>\n",
       "      <td>0</td>\n",
       "      <td>0</td>\n",
       "      <td>0</td>\n",
       "      <td>0</td>\n",
       "      <td>0</td>\n",
       "    </tr>\n",
       "    <tr>\n",
       "      <th>4</th>\n",
       "      <td>B6</td>\n",
       "      <td>2010-01-01</td>\n",
       "      <td>660</td>\n",
       "      <td>N653JB</td>\n",
       "      <td>MCO</td>\n",
       "      <td>20:48</td>\n",
       "      <td>20:49</td>\n",
       "      <td>158</td>\n",
       "      <td>148</td>\n",
       "      <td>1</td>\n",
       "      <td>20:47</td>\n",
       "      <td>2</td>\n",
       "      <td>0</td>\n",
       "      <td>0</td>\n",
       "      <td>0</td>\n",
       "      <td>0</td>\n",
       "      <td>0</td>\n",
       "    </tr>\n",
       "  </tbody>\n",
       "</table>\n",
       "</div>"
      ],
      "text/plain": [
       "  Carrier Code Date (MM/DD/YYYY)  Flight Number Tail Number Origin Airport  \\\n",
       "0           B6        2010-01-01             22      N608JB            JFK   \n",
       "1           B6        2010-01-01             42      N586JB            JFK   \n",
       "2           B6        2010-01-01             44      N586JB            JFK   \n",
       "3           B6        2010-01-01             62      N284JB            JFK   \n",
       "4           B6        2010-01-01            660      N653JB            MCO   \n",
       "\n",
       "  Scheduled Arrival Time Actual Arrival Time  \\\n",
       "0                  00:01               02:41   \n",
       "1                  11:52               13:05   \n",
       "2                  08:55               09:11   \n",
       "3                  16:23               16:21   \n",
       "4                  20:48               20:49   \n",
       "\n",
       "   Scheduled Elapsed Time (Minutes)  Actual Elapsed Time (Minutes)  \\\n",
       "0                                76                             72   \n",
       "1                                71                             78   \n",
       "2                                75                             60   \n",
       "3                                84                             60   \n",
       "4                               158                            148   \n",
       "\n",
       "   Arrival Delay (Minutes) Wheels-on Time  Taxi-In time (Minutes)  \\\n",
       "0                      160          02:37                       4   \n",
       "1                       73          12:59                       6   \n",
       "2                       16          09:09                       2   \n",
       "3                       -2          16:17                       4   \n",
       "4                        1          20:47                       2   \n",
       "\n",
       "   Delay Carrier (Minutes)  Delay Weather (Minutes)  \\\n",
       "0                      160                        0   \n",
       "1                       66                        0   \n",
       "2                       16                        0   \n",
       "3                        0                        0   \n",
       "4                        0                        0   \n",
       "\n",
       "   Delay National Aviation System (Minutes)  Delay Security (Minutes)  \\\n",
       "0                                         0                         0   \n",
       "1                                         7                         0   \n",
       "2                                         0                         0   \n",
       "3                                         0                         0   \n",
       "4                                         0                         0   \n",
       "\n",
       "   Delay Late Aircraft Arrival (Minutes)  \n",
       "0                                      0  \n",
       "1                                      0  \n",
       "2                                      0  \n",
       "3                                      0  \n",
       "4                                      0  "
      ]
     },
     "execution_count": 9,
     "metadata": {},
     "output_type": "execute_result"
    }
   ],
   "source": [
    "all_merged.head()"
   ]
  },
  {
   "cell_type": "code",
   "execution_count": 10,
   "id": "bd9b179a",
   "metadata": {},
   "outputs": [],
   "source": [
    "sorted_all_merged = all_merged.sort_values(by=['Date (MM/DD/YYYY)', 'Scheduled Arrival Time']).reset_index(drop=True)"
   ]
  },
  {
   "cell_type": "code",
   "execution_count": 11,
   "id": "eaf0f99d",
   "metadata": {},
   "outputs": [],
   "source": [
    "sorted_all_merged = sorted_all_merged.drop_duplicates().reset_index(drop=True)"
   ]
  },
  {
   "cell_type": "code",
   "execution_count": 12,
   "id": "59174638",
   "metadata": {},
   "outputs": [
    {
     "data": {
      "text/plain": [
       "(113675, 17)"
      ]
     },
     "execution_count": 12,
     "metadata": {},
     "output_type": "execute_result"
    }
   ],
   "source": [
    "sorted_all_merged.shape"
   ]
  },
  {
   "cell_type": "code",
   "execution_count": 13,
   "id": "8d7afa5d",
   "metadata": {},
   "outputs": [],
   "source": [
    "sorted_all_merged = sorted_all_merged[~sorted_all_merged['Origin Airport'].isin(drop)]"
   ]
  },
  {
   "cell_type": "code",
   "execution_count": 14,
   "id": "8e469537",
   "metadata": {},
   "outputs": [
    {
     "data": {
      "text/plain": [
       "(113671, 17)"
      ]
     },
     "execution_count": 14,
     "metadata": {},
     "output_type": "execute_result"
    }
   ],
   "source": [
    "sorted_all_merged.shape"
   ]
  },
  {
   "cell_type": "markdown",
   "id": "6a6de7b0",
   "metadata": {},
   "source": [
    "# CARRIER CODE"
   ]
  },
  {
   "cell_type": "code",
   "execution_count": 15,
   "id": "723330ed",
   "metadata": {},
   "outputs": [
    {
     "data": {
      "image/png": "[encoded data removed]",
      "text/plain": [
       "<Figure size 1500x500 with 1 Axes>"
      ]
     },
     "metadata": {},
     "output_type": "display_data"
    }
   ],
   "source": [
    "plot_top_n_categorical(sorted_all_merged, \"Carrier Code\")"
   ]
  },
  {
   "cell_type": "markdown",
   "id": "7f0108b8",
   "metadata": {},
   "source": [
    "# FLIGHT NUMBER"
   ]
  },
  {
   "cell_type": "code",
   "execution_count": 16,
   "id": "cda25546",
   "metadata": {},
   "outputs": [
    {
     "data": {
      "image/png": "[encoded data removed]",
      "text/plain": [
       "<Figure size 1500x500 with 1 Axes>"
      ]
     },
     "metadata": {},
     "output_type": "display_data"
    }
   ],
   "source": [
    "plot_top_n_categorical(sorted_all_merged, \"Flight Number\", 40)"
   ]
  },
  {
   "cell_type": "markdown",
   "id": "4b2c4650",
   "metadata": {},
   "source": [
    "# TAIL NUMBER"
   ]
  },
  {
   "cell_type": "code",
   "execution_count": 17,
   "id": "9a40041c",
   "metadata": {},
   "outputs": [
    {
     "data": {
      "image/png": "[encoded data removed]",
      "text/plain": [
       "<Figure size 1500x500 with 1 Axes>"
      ]
     },
     "metadata": {},
     "output_type": "display_data"
    }
   ],
   "source": [
    "plot_top_n_categorical(sorted_all_merged, 'Tail Number', 100)"
   ]
  },
  {
   "cell_type": "markdown",
   "id": "0d9a2796",
   "metadata": {},
   "source": [
    "# ORIGIN AIRPORT"
   ]
  },
  {
   "cell_type": "code",
   "execution_count": 18,
   "id": "919860ff",
   "metadata": {},
   "outputs": [
    {
     "data": {
      "image/png": "[encoded data removed]",
      "text/plain": [
       "<Figure size 1500x500 with 1 Axes>"
      ]
     },
     "metadata": {},
     "output_type": "display_data"
    }
   ],
   "source": [
    "plot_top_n_categorical(sorted_all_merged, 'Origin Airport')"
   ]
  },
  {
   "cell_type": "markdown",
   "id": "63144260",
   "metadata": {},
   "source": [
    "# COLUMNS"
   ]
  },
  {
   "cell_type": "code",
   "execution_count": 19,
   "id": "a5f3ca53",
   "metadata": {},
   "outputs": [
    {
     "data": {
      "text/plain": [
       "Index(['Carrier Code', 'Date (MM/DD/YYYY)', 'Flight Number', 'Tail Number',\n",
       "       'Origin Airport', 'Scheduled Arrival Time', 'Actual Arrival Time',\n",
       "       'Scheduled Elapsed Time (Minutes)', 'Actual Elapsed Time (Minutes)',\n",
       "       'Arrival Delay (Minutes)', 'Wheels-on Time', 'Taxi-In time (Minutes)',\n",
       "       'Delay Carrier (Minutes)', 'Delay Weather (Minutes)',\n",
       "       'Delay National Aviation System (Minutes)', 'Delay Security (Minutes)',\n",
       "       'Delay Late Aircraft Arrival (Minutes)'],\n",
       "      dtype='object')"
      ]
     },
     "execution_count": 19,
     "metadata": {},
     "output_type": "execute_result"
    }
   ],
   "source": [
    "sorted_all_merged.columns"
   ]
  },
  {
   "cell_type": "code",
   "execution_count": 20,
   "id": "e40f7ff6",
   "metadata": {},
   "outputs": [],
   "source": [
    "to_drop = ['Wheels-on Time', 'Taxi-In time (Minutes)',\n",
    "       'Delay Carrier (Minutes)', 'Delay Weather (Minutes)',\n",
    "       'Delay National Aviation System (Minutes)', 'Delay Security (Minutes)',\n",
    "       'Delay Late Aircraft Arrival (Minutes)']"
   ]
  },
  {
   "cell_type": "code",
   "execution_count": 21,
   "id": "10e37c97",
   "metadata": {},
   "outputs": [],
   "source": [
    "def date_to_season(date):\n",
    "    \"\"\"\n",
    "    Determine the season for a given date without considering the year.\n",
    "\n",
    "    Parameters:\n",
    "    date (Timestamp): The date.\n",
    "\n",
    "    Returns:\n",
    "    str: The season corresponding to the given date.\n",
    "    \"\"\"\n",
    "    # Define fixed date ranges for each season\n",
    "    seasons = {\n",
    "        'winter': ((1, 1), (3, 20)),\n",
    "        'spring': ((3, 21), (6, 20)),\n",
    "        'summer': ((6, 21), (9, 22)),\n",
    "        'autumn': ((9, 23), (12, 20)),\n",
    "        'winter': ((12, 21), (12, 31)),\n",
    "        'winter': ((1, 1), (1, 31))\n",
    "    }\n",
    "\n",
    "    # Get month and day from the date\n",
    "    month = date.month\n",
    "    day = date.day\n",
    "    print(date.year, date.month, date.day)\n",
    "    # Determine the season based on the month and day\n",
    "    for season, (start_md, end_md) in seasons.items():\n",
    "        if start_md <= (month, day) <= end_md:\n",
    "            return season"
   ]
  },
  {
   "cell_type": "code",
   "execution_count": 22,
   "id": "7af8e165",
   "metadata": {},
   "outputs": [],
   "source": [
    "def create_categorical_column(df):\n",
    "    \"\"\"\n",
    "    Create a categorical column in the DataFrame based on the range of a numeric column by iterating over each row.\n",
    "\n",
    "    Parameters:\n",
    "    df (DataFrame): The pandas DataFrame.\n",
    "    numeric_column (str): The name of the numeric column.\n",
    "\n",
    "    Returns:\n",
    "    DataFrame: The DataFrame with the new categorical column.\n",
    "    \"\"\"\n",
    "    numeric_column = 'Arrival Delay (Minutes)'\n",
    "    categorical_values = []\n",
    "    for index, row in df.iterrows():\n",
    "        numeric_value = row[numeric_column]\n",
    "        # Customize the conditions based on your requirement\n",
    "        if abs(numeric_value) <= 5:\n",
    "            categorical_values.append('ONTIME')\n",
    "        elif numeric_value < -5:\n",
    "            categorical_values.append('EARLY')\n",
    "        elif numeric_value > 5:\n",
    "            categorical_values.append('LATE')\n",
    "        else:\n",
    "            print(\"THIS SHOULDN't HAPPEN\")\n",
    "    df['FLIGHT_STATUS'] = categorical_values\n",
    "    return df"
   ]
  },
  {
   "cell_type": "code",
   "execution_count": 23,
   "id": "5de2f57e",
   "metadata": {},
   "outputs": [],
   "source": [
    "processed = sorted_all_merged.drop(columns=to_drop)"
   ]
  },
  {
   "cell_type": "code",
   "execution_count": 24,
   "id": "7fe2041f",
   "metadata": {},
   "outputs": [],
   "source": [
    "processed = create_categorical_column(processed)"
   ]
  },
  {
   "cell_type": "code",
   "execution_count": 25,
   "id": "f9466ae6",
   "metadata": {},
   "outputs": [],
   "source": [
    "processed = processed.drop(columns=[ 'Actual Elapsed Time (Minutes)', 'Actual Arrival Time'])"
   ]
  },
  {
   "cell_type": "code",
   "execution_count": 26,
   "id": "9c444bc3",
   "metadata": {},
   "outputs": [],
   "source": [
    "def month_to_season(month):\n",
    "    \"\"\"\n",
    "    Determine the season for a given month.\n",
    "\n",
    "    Parameters:\n",
    "    month (int): The month number (1-12).\n",
    "\n",
    "    Returns:\n",
    "    str: The season corresponding to the given month.\n",
    "    \"\"\"\n",
    "    # Define mapping of months to seasons\n",
    "    season_map = {\n",
    "        1: 'winter',\n",
    "        2: 'winter',\n",
    "        3: 'spring',\n",
    "        4: 'spring',\n",
    "        5: 'spring',\n",
    "        6: 'summer',\n",
    "        7: 'summer',\n",
    "        8: 'summer',\n",
    "        9: 'autumn',\n",
    "        10: 'autumn',\n",
    "        11: 'autumn',\n",
    "        12: 'winter'\n",
    "    }\n",
    "    \n",
    "    return season_map.get(month, 'Unknown')"
   ]
  },
  {
   "cell_type": "code",
   "execution_count": 27,
   "id": "b1e48509",
   "metadata": {},
   "outputs": [],
   "source": [
    "processed['month'] = processed['Date (MM/DD/YYYY)'].dt.month"
   ]
  },
  {
   "cell_type": "code",
   "execution_count": 28,
   "id": "cfd5ba48",
   "metadata": {},
   "outputs": [],
   "source": [
    "processed['day'] = processed['Date (MM/DD/YYYY)'].dt.day"
   ]
  },
  {
   "cell_type": "code",
   "execution_count": 29,
   "id": "9a3352fb",
   "metadata": {},
   "outputs": [],
   "source": [
    "processed['season'] = processed['month'].apply(month_to_season)"
   ]
  },
  {
   "cell_type": "code",
   "execution_count": 31,
   "id": "6ce11a0a",
   "metadata": {},
   "outputs": [],
   "source": [
    "processed['WeekDay'] = processed['Date (MM/DD/YYYY)'].dt.day_name()"
   ]
  },
  {
   "cell_type": "code",
   "execution_count": null,
   "id": "910c5128",
   "metadata": {},
   "outputs": [],
   "source": [
    "# processed.to_csv(\"./INITIAL_PROCESSED_DATA_NUMERIC.csv\", index=False)"
   ]
  },
  {
   "cell_type": "code",
   "execution_count": 32,
   "id": "aca5833a",
   "metadata": {},
   "outputs": [
    {
     "data": {
      "text/html": [
       "<div>\n",
       "<style scoped>\n",
       "    .dataframe tbody tr th:only-of-type {\n",
       "        vertical-align: middle;\n",
       "    }\n",
       "\n",
       "    .dataframe tbody tr th {\n",
       "        vertical-align: top;\n",
       "    }\n",
       "\n",
       "    .dataframe thead th {\n",
       "        text-align: right;\n",
       "    }\n",
       "</style>\n",
       "<table border=\"1\" class=\"dataframe\">\n",
       "  <thead>\n",
       "    <tr style=\"text-align: right;\">\n",
       "      <th></th>\n",
       "      <th>Carrier Code</th>\n",
       "      <th>Date (MM/DD/YYYY)</th>\n",
       "      <th>Flight Number</th>\n",
       "      <th>Tail Number</th>\n",
       "      <th>Origin Airport</th>\n",
       "      <th>Scheduled Arrival Time</th>\n",
       "      <th>Scheduled Elapsed Time (Minutes)</th>\n",
       "      <th>Arrival Delay (Minutes)</th>\n",
       "      <th>FLIGHT_STATUS</th>\n",
       "      <th>month</th>\n",
       "      <th>day</th>\n",
       "      <th>season</th>\n",
       "      <th>WeekDay</th>\n",
       "    </tr>\n",
       "  </thead>\n",
       "  <tbody>\n",
       "    <tr>\n",
       "      <th>0</th>\n",
       "      <td>B6</td>\n",
       "      <td>2010-01-01</td>\n",
       "      <td>22</td>\n",
       "      <td>N608JB</td>\n",
       "      <td>JFK</td>\n",
       "      <td>00:01</td>\n",
       "      <td>76</td>\n",
       "      <td>160</td>\n",
       "      <td>LATE</td>\n",
       "      <td>1</td>\n",
       "      <td>1</td>\n",
       "      <td>winter</td>\n",
       "      <td>Friday</td>\n",
       "    </tr>\n",
       "    <tr>\n",
       "      <th>1</th>\n",
       "      <td>B6</td>\n",
       "      <td>2010-01-01</td>\n",
       "      <td>44</td>\n",
       "      <td>N586JB</td>\n",
       "      <td>JFK</td>\n",
       "      <td>08:55</td>\n",
       "      <td>75</td>\n",
       "      <td>16</td>\n",
       "      <td>LATE</td>\n",
       "      <td>1</td>\n",
       "      <td>1</td>\n",
       "      <td>winter</td>\n",
       "      <td>Friday</td>\n",
       "    </tr>\n",
       "    <tr>\n",
       "      <th>2</th>\n",
       "      <td>MQ</td>\n",
       "      <td>2010-01-01</td>\n",
       "      <td>4094</td>\n",
       "      <td>N610MQ</td>\n",
       "      <td>ORD</td>\n",
       "      <td>11:20</td>\n",
       "      <td>100</td>\n",
       "      <td>4</td>\n",
       "      <td>ONTIME</td>\n",
       "      <td>1</td>\n",
       "      <td>1</td>\n",
       "      <td>winter</td>\n",
       "      <td>Friday</td>\n",
       "    </tr>\n",
       "    <tr>\n",
       "      <th>3</th>\n",
       "      <td>9E</td>\n",
       "      <td>2010-01-01</td>\n",
       "      <td>3818</td>\n",
       "      <td>89289E</td>\n",
       "      <td>DTW</td>\n",
       "      <td>11:44</td>\n",
       "      <td>84</td>\n",
       "      <td>22</td>\n",
       "      <td>LATE</td>\n",
       "      <td>1</td>\n",
       "      <td>1</td>\n",
       "      <td>winter</td>\n",
       "      <td>Friday</td>\n",
       "    </tr>\n",
       "    <tr>\n",
       "      <th>4</th>\n",
       "      <td>B6</td>\n",
       "      <td>2010-01-01</td>\n",
       "      <td>42</td>\n",
       "      <td>N586JB</td>\n",
       "      <td>JFK</td>\n",
       "      <td>11:52</td>\n",
       "      <td>71</td>\n",
       "      <td>73</td>\n",
       "      <td>LATE</td>\n",
       "      <td>1</td>\n",
       "      <td>1</td>\n",
       "      <td>winter</td>\n",
       "      <td>Friday</td>\n",
       "    </tr>\n",
       "  </tbody>\n",
       "</table>\n",
       "</div>"
      ],
      "text/plain": [
       "  Carrier Code Date (MM/DD/YYYY)  Flight Number Tail Number Origin Airport  \\\n",
       "0           B6        2010-01-01             22      N608JB            JFK   \n",
       "1           B6        2010-01-01             44      N586JB            JFK   \n",
       "2           MQ        2010-01-01           4094      N610MQ            ORD   \n",
       "3           9E        2010-01-01           3818      89289E            DTW   \n",
       "4           B6        2010-01-01             42      N586JB            JFK   \n",
       "\n",
       "  Scheduled Arrival Time  Scheduled Elapsed Time (Minutes)  \\\n",
       "0                  00:01                                76   \n",
       "1                  08:55                                75   \n",
       "2                  11:20                               100   \n",
       "3                  11:44                                84   \n",
       "4                  11:52                                71   \n",
       "\n",
       "   Arrival Delay (Minutes) FLIGHT_STATUS  month  day  season WeekDay  \n",
       "0                      160          LATE      1    1  winter  Friday  \n",
       "1                       16          LATE      1    1  winter  Friday  \n",
       "2                        4        ONTIME      1    1  winter  Friday  \n",
       "3                       22          LATE      1    1  winter  Friday  \n",
       "4                       73          LATE      1    1  winter  Friday  "
      ]
     },
     "execution_count": 32,
     "metadata": {},
     "output_type": "execute_result"
    }
   ],
   "source": [
    "processed.head()"
   ]
  },
  {
   "cell_type": "markdown",
   "id": "492f9366",
   "metadata": {},
   "source": [
    "# DATA PREP FOR 2nd Model"
   ]
  },
  {
   "cell_type": "code",
   "execution_count": null,
   "id": "3a6ebc57",
   "metadata": {},
   "outputs": [],
   "source": [
    "processed.sort_values(by=['Date (MM/DD/YYYY)', 'Scheduled Arrival Time'])"
   ]
  },
  {
   "cell_type": "code",
   "execution_count": null,
   "id": "600a1ee0",
   "metadata": {},
   "outputs": [],
   "source": [
    "def create_data_2nd_model_data(df, prev_status='ONTIME'):\n",
    "    prevStatus = []\n",
    "    for index, row in df.iterrows():\n",
    "        prevStatus.append(prev_status)\n",
    "        prev_status = row['FLIGHT_STATUS']\n",
    "    df['PREV_STAT'] = pd.Series(prevStatus)\n",
    "    return df"
   ]
  },
  {
   "cell_type": "code",
   "execution_count": null,
   "id": "4dfa5436",
   "metadata": {},
   "outputs": [],
   "source": [
    "def create_data_2nd_model_data_ext(df, num_prev=3):\n",
    "    extended_data = []\n",
    "    for index, row in df.iterrows():\n",
    "        for i in range(num_prev):\n",
    "            if index - i - 1 >= 0:\n",
    "                extended_row = row.copy()  # Create a copy of the current row\n",
    "                extended_row['PREV_STAT'] = df.iloc[index - i - 1]['FLIGHT_STATUS']\n",
    "                extended_data.append(extended_row)\n",
    "            else:\n",
    "                extended_row = row.copy()  # Create a copy of the current row\n",
    "                extended_row['PREV_STAT'] = 'ONTIME'\n",
    "                extended_data.append(extended_row)\n",
    "    df_extended = pd.DataFrame(extended_data)\n",
    "    return df_extended.reset_index(drop=True)\n"
   ]
  },
  {
   "cell_type": "code",
   "execution_count": null,
   "id": "ae36e039",
   "metadata": {},
   "outputs": [],
   "source": [
    "final_data = processed.drop(columns=['Arrival Delay (Minutes)'])"
   ]
  },
  {
   "cell_type": "code",
   "execution_count": null,
   "id": "4794418d",
   "metadata": {},
   "outputs": [],
   "source": [
    "final_data.head()"
   ]
  },
  {
   "cell_type": "code",
   "execution_count": null,
   "id": "10e802e4",
   "metadata": {},
   "outputs": [],
   "source": [
    "# create_data_2nd_model_data(final_data).to_csv(\"1_HOP.csv\", index=False)"
   ]
  },
  {
   "cell_type": "code",
   "execution_count": null,
   "id": "0e31f9df",
   "metadata": {},
   "outputs": [],
   "source": [
    "# create_data_2nd_model_data_ext(final_data).to_csv(\"3_HOP.csv\", index=False)"
   ]
  },
  {
   "cell_type": "code",
   "execution_count": null,
   "id": "206e46bc",
   "metadata": {},
   "outputs": [],
   "source": []
  },
  {
   "cell_type": "code",
   "execution_count": null,
   "id": "ac84be96",
   "metadata": {},
   "outputs": [],
   "source": []
  },
  {
   "cell_type": "code",
   "execution_count": 57,
   "id": "e9282d3e",
   "metadata": {},
   "outputs": [],
   "source": [
    "airport_to_csv_mapping = {\n",
    "#     'ORD': '72530094846.csv', \n",
    "#     'JFK': '74486094789.csv', \n",
    "#     'ATL': '72219013874.csv', \n",
    "#     'CLT': '72314013881.csv', \n",
    "#     'DTW': '72537094847.csv', \n",
    "#     'MCO': '72205012815.csv', \n",
    "#     'LGA': '72503014732.csv', \n",
    "#     'EWR': '72502014734.csv', \n",
    "#     'IAD': '72403093738.csv', \n",
    "#     'SYR':'72519014771.csv',\n",
    "#     'DCA': '72405013743.csv', \n",
    "#     'BWI': '72406093721.csv', \n",
    "#     'PHL': '72408013739.csv', \n",
    "#     'MSP': '72658014922.csv', \n",
    "#     'BOS': '72509014739.csv', \n",
    "    'DEN': '72565003017.csv', \n",
    "    'FLL': '74783012849.csv', \n",
    "    'DFW': '72259303985.csv', \n",
    "    'CLE': '72524014820.csv', \n",
    "    'PIE': '72211612873.csv', \n",
    "    'BNA': '72327013897.csv', \n",
    "    'SFB': '72205712854.csv', \n",
    "    'RDU': '72306013722.csv', \n",
    "    'SRQ': '72211512871.csv', \n",
    "    'CVG': '72421093814.csv', \n",
    "    'RSW': '72210812894.csv',\n",
    "    'TPA': '72211012842.csv', \n",
    "    'PGD': '72203412812.csv', \n",
    "    'MYR': '74791013717.csv', \n",
    "    'MIA': '72202012839.csv',\n",
    "}"
   ]
  },
  {
   "cell_type": "code",
   "execution_count": 58,
   "id": "79f4ba7f",
   "metadata": {},
   "outputs": [],
   "source": [
    "# import os\n",
    "# import urllib.request\n",
    "\n",
    "# WEATHER_REPO = './weather/'\n",
    "# years = list(range(2010, 2023))\n",
    "# BASE_LINK = 'https://www.ncei.noaa.gov/data/global-hourly/access/'\n",
    "# airports = airport_to_csv_mapping.keys()\n",
    "\n",
    "# for ap in airports:\n",
    "#     apdir = os.path.join(WEATHER_REPO, ap)  # Create directory path for each airport\n",
    "#     os.makedirs(apdir, exist_ok=True)  # Create directory if it doesn't exist\n",
    "#     for y in years:\n",
    "#         file_url = BASE_LINK + str(y) + \"/\" + airport_to_csv_mapping[ap]\n",
    "#         file_name = os.path.basename(file_url)  # Extract filename from URL\n",
    "#         # Add year to the filename\n",
    "#         file_name_with_year = str(y) + \"_\" + file_name\n",
    "#         file_path = os.path.join(apdir, file_name_with_year)  # Create full file path\n",
    "#         urllib.request.urlretrieve(file_url, file_path)  # Download file into correct directory\n",
    "#         print(\"Downloaded:\", file_name_with_year, \"into\", apdir)\n"
   ]
  },
  {
   "cell_type": "code",
   "execution_count": 59,
   "id": "dd70af15",
   "metadata": {},
   "outputs": [],
   "source": [
    "columns_to_consider = [\"STATION\",\"DATE\",\"SOURCE\",\"LATITUDE\",\"LONGITUDE\",\"ELEVATION\",\"NAME\",\n",
    "                       \"REPORT_TYPE\",\"CALL_SIGN\",\"QUALITY_CONTROL\",\"WND\",\"CIG\",\"VIS\",\"TMP\",\"DEW\",\"SLP\"]\n"
   ]
  },
  {
   "cell_type": "code",
   "execution_count": 60,
   "id": "4b242c49",
   "metadata": {
    "scrolled": false
   },
   "outputs": [
    {
     "name": "stdout",
     "output_type": "stream",
     "text": [
      "DEN https://www.ncei.noaa.gov/data/global-hourly/access/2010/72565003017.csv\n",
      "DEN https://www.ncei.noaa.gov/data/global-hourly/access/2011/72565003017.csv\n",
      "DEN https://www.ncei.noaa.gov/data/global-hourly/access/2012/72565003017.csv\n",
      "HTTP Error 404: Not Found\n",
      "DEN https://www.ncei.noaa.gov/data/global-hourly/access/2013/72565003017.csv\n",
      "DEN https://www.ncei.noaa.gov/data/global-hourly/access/2014/72565003017.csv\n",
      "DEN https://www.ncei.noaa.gov/data/global-hourly/access/2015/72565003017.csv\n",
      "DEN https://www.ncei.noaa.gov/data/global-hourly/access/2016/72565003017.csv\n",
      "DEN https://www.ncei.noaa.gov/data/global-hourly/access/2017/72565003017.csv\n",
      "DEN https://www.ncei.noaa.gov/data/global-hourly/access/2018/72565003017.csv\n",
      "DEN https://www.ncei.noaa.gov/data/global-hourly/access/2019/72565003017.csv\n",
      "DEN https://www.ncei.noaa.gov/data/global-hourly/access/2020/72565003017.csv\n",
      "DEN https://www.ncei.noaa.gov/data/global-hourly/access/2021/72565003017.csv\n",
      "DEN https://www.ncei.noaa.gov/data/global-hourly/access/2022/72565003017.csv\n",
      "DEN https://www.ncei.noaa.gov/data/global-hourly/access/2023/72565003017.csv\n"
     ]
    },
    {
     "name": "stderr",
     "output_type": "stream",
     "text": [
      "/tmp/ipykernel_2379591/3100021501.py:26: DtypeWarning: Columns (2) have mixed types. Specify dtype option on import or set low_memory=False.\n",
      "  df = pd.read_csv(file_url, usecols=columns_to_consider)\n"
     ]
    },
    {
     "name": "stdout",
     "output_type": "stream",
     "text": [
      "FLL https://www.ncei.noaa.gov/data/global-hourly/access/2010/74783012849.csv\n",
      "FLL https://www.ncei.noaa.gov/data/global-hourly/access/2011/74783012849.csv\n",
      "FLL https://www.ncei.noaa.gov/data/global-hourly/access/2012/74783012849.csv\n",
      "FLL https://www.ncei.noaa.gov/data/global-hourly/access/2013/74783012849.csv\n",
      "FLL https://www.ncei.noaa.gov/data/global-hourly/access/2014/74783012849.csv\n",
      "FLL https://www.ncei.noaa.gov/data/global-hourly/access/2015/74783012849.csv\n",
      "FLL https://www.ncei.noaa.gov/data/global-hourly/access/2016/74783012849.csv\n",
      "FLL https://www.ncei.noaa.gov/data/global-hourly/access/2017/74783012849.csv\n",
      "FLL https://www.ncei.noaa.gov/data/global-hourly/access/2018/74783012849.csv\n",
      "FLL https://www.ncei.noaa.gov/data/global-hourly/access/2019/74783012849.csv\n",
      "FLL https://www.ncei.noaa.gov/data/global-hourly/access/2020/74783012849.csv\n",
      "FLL https://www.ncei.noaa.gov/data/global-hourly/access/2021/74783012849.csv\n",
      "FLL https://www.ncei.noaa.gov/data/global-hourly/access/2022/74783012849.csv\n",
      "FLL https://www.ncei.noaa.gov/data/global-hourly/access/2023/74783012849.csv\n",
      "DFW https://www.ncei.noaa.gov/data/global-hourly/access/2010/72259303985.csv\n",
      "DFW https://www.ncei.noaa.gov/data/global-hourly/access/2011/72259303985.csv\n",
      "DFW https://www.ncei.noaa.gov/data/global-hourly/access/2012/72259303985.csv\n",
      "DFW https://www.ncei.noaa.gov/data/global-hourly/access/2013/72259303985.csv\n",
      "DFW https://www.ncei.noaa.gov/data/global-hourly/access/2014/72259303985.csv\n",
      "DFW https://www.ncei.noaa.gov/data/global-hourly/access/2015/72259303985.csv\n",
      "DFW https://www.ncei.noaa.gov/data/global-hourly/access/2016/72259303985.csv\n",
      "DFW https://www.ncei.noaa.gov/data/global-hourly/access/2017/72259303985.csv\n",
      "DFW https://www.ncei.noaa.gov/data/global-hourly/access/2018/72259303985.csv\n",
      "DFW https://www.ncei.noaa.gov/data/global-hourly/access/2019/72259303985.csv\n",
      "DFW https://www.ncei.noaa.gov/data/global-hourly/access/2020/72259303985.csv\n",
      "DFW https://www.ncei.noaa.gov/data/global-hourly/access/2021/72259303985.csv\n"
     ]
    },
    {
     "name": "stderr",
     "output_type": "stream",
     "text": [
      "/tmp/ipykernel_2379591/3100021501.py:26: DtypeWarning: Columns (2) have mixed types. Specify dtype option on import or set low_memory=False.\n",
      "  df = pd.read_csv(file_url, usecols=columns_to_consider)\n"
     ]
    },
    {
     "name": "stdout",
     "output_type": "stream",
     "text": [
      "DFW https://www.ncei.noaa.gov/data/global-hourly/access/2022/72259303985.csv\n",
      "DFW https://www.ncei.noaa.gov/data/global-hourly/access/2023/72259303985.csv\n",
      "CLE https://www.ncei.noaa.gov/data/global-hourly/access/2010/72524014820.csv\n",
      "CLE https://www.ncei.noaa.gov/data/global-hourly/access/2011/72524014820.csv\n",
      "CLE https://www.ncei.noaa.gov/data/global-hourly/access/2012/72524014820.csv\n",
      "CLE https://www.ncei.noaa.gov/data/global-hourly/access/2013/72524014820.csv\n",
      "CLE https://www.ncei.noaa.gov/data/global-hourly/access/2014/72524014820.csv\n",
      "CLE https://www.ncei.noaa.gov/data/global-hourly/access/2015/72524014820.csv\n",
      "CLE https://www.ncei.noaa.gov/data/global-hourly/access/2016/72524014820.csv\n",
      "CLE https://www.ncei.noaa.gov/data/global-hourly/access/2017/72524014820.csv\n",
      "CLE https://www.ncei.noaa.gov/data/global-hourly/access/2018/72524014820.csv\n",
      "CLE https://www.ncei.noaa.gov/data/global-hourly/access/2019/72524014820.csv\n",
      "CLE https://www.ncei.noaa.gov/data/global-hourly/access/2020/72524014820.csv\n",
      "CLE https://www.ncei.noaa.gov/data/global-hourly/access/2021/72524014820.csv\n",
      "CLE https://www.ncei.noaa.gov/data/global-hourly/access/2022/72524014820.csv\n",
      "CLE https://www.ncei.noaa.gov/data/global-hourly/access/2023/72524014820.csv\n",
      "PIE https://www.ncei.noaa.gov/data/global-hourly/access/2010/72211612873.csv\n",
      "PIE https://www.ncei.noaa.gov/data/global-hourly/access/2011/72211612873.csv\n"
     ]
    },
    {
     "name": "stderr",
     "output_type": "stream",
     "text": [
      "/tmp/ipykernel_2379591/3100021501.py:26: DtypeWarning: Columns (2) have mixed types. Specify dtype option on import or set low_memory=False.\n",
      "  df = pd.read_csv(file_url, usecols=columns_to_consider)\n"
     ]
    },
    {
     "name": "stdout",
     "output_type": "stream",
     "text": [
      "PIE https://www.ncei.noaa.gov/data/global-hourly/access/2012/72211612873.csv\n",
      "PIE https://www.ncei.noaa.gov/data/global-hourly/access/2013/72211612873.csv\n",
      "PIE https://www.ncei.noaa.gov/data/global-hourly/access/2014/72211612873.csv\n",
      "PIE https://www.ncei.noaa.gov/data/global-hourly/access/2015/72211612873.csv\n",
      "PIE https://www.ncei.noaa.gov/data/global-hourly/access/2016/72211612873.csv\n",
      "PIE https://www.ncei.noaa.gov/data/global-hourly/access/2017/72211612873.csv\n"
     ]
    },
    {
     "name": "stderr",
     "output_type": "stream",
     "text": [
      "/tmp/ipykernel_2379591/3100021501.py:26: DtypeWarning: Columns (2) have mixed types. Specify dtype option on import or set low_memory=False.\n",
      "  df = pd.read_csv(file_url, usecols=columns_to_consider)\n"
     ]
    },
    {
     "name": "stdout",
     "output_type": "stream",
     "text": [
      "PIE https://www.ncei.noaa.gov/data/global-hourly/access/2018/72211612873.csv\n",
      "PIE https://www.ncei.noaa.gov/data/global-hourly/access/2019/72211612873.csv\n",
      "PIE https://www.ncei.noaa.gov/data/global-hourly/access/2020/72211612873.csv\n",
      "PIE https://www.ncei.noaa.gov/data/global-hourly/access/2021/72211612873.csv\n",
      "PIE https://www.ncei.noaa.gov/data/global-hourly/access/2022/72211612873.csv\n",
      "PIE https://www.ncei.noaa.gov/data/global-hourly/access/2023/72211612873.csv\n",
      "BNA https://www.ncei.noaa.gov/data/global-hourly/access/2010/72327013897.csv\n",
      "BNA https://www.ncei.noaa.gov/data/global-hourly/access/2011/72327013897.csv\n",
      "BNA https://www.ncei.noaa.gov/data/global-hourly/access/2012/72327013897.csv\n",
      "BNA https://www.ncei.noaa.gov/data/global-hourly/access/2013/72327013897.csv\n",
      "BNA https://www.ncei.noaa.gov/data/global-hourly/access/2014/72327013897.csv\n",
      "BNA https://www.ncei.noaa.gov/data/global-hourly/access/2015/72327013897.csv\n",
      "BNA https://www.ncei.noaa.gov/data/global-hourly/access/2016/72327013897.csv\n",
      "BNA https://www.ncei.noaa.gov/data/global-hourly/access/2017/72327013897.csv\n",
      "BNA https://www.ncei.noaa.gov/data/global-hourly/access/2018/72327013897.csv\n",
      "BNA https://www.ncei.noaa.gov/data/global-hourly/access/2019/72327013897.csv\n",
      "BNA https://www.ncei.noaa.gov/data/global-hourly/access/2020/72327013897.csv\n",
      "BNA https://www.ncei.noaa.gov/data/global-hourly/access/2021/72327013897.csv\n",
      "BNA https://www.ncei.noaa.gov/data/global-hourly/access/2022/72327013897.csv\n",
      "BNA https://www.ncei.noaa.gov/data/global-hourly/access/2023/72327013897.csv\n",
      "SFB https://www.ncei.noaa.gov/data/global-hourly/access/2010/72205712854.csv\n",
      "SFB https://www.ncei.noaa.gov/data/global-hourly/access/2011/72205712854.csv\n"
     ]
    },
    {
     "name": "stderr",
     "output_type": "stream",
     "text": [
      "/tmp/ipykernel_2379591/3100021501.py:26: DtypeWarning: Columns (2) have mixed types. Specify dtype option on import or set low_memory=False.\n",
      "  df = pd.read_csv(file_url, usecols=columns_to_consider)\n"
     ]
    },
    {
     "name": "stdout",
     "output_type": "stream",
     "text": [
      "SFB https://www.ncei.noaa.gov/data/global-hourly/access/2012/72205712854.csv\n",
      "SFB https://www.ncei.noaa.gov/data/global-hourly/access/2013/72205712854.csv\n",
      "SFB https://www.ncei.noaa.gov/data/global-hourly/access/2014/72205712854.csv\n",
      "SFB https://www.ncei.noaa.gov/data/global-hourly/access/2015/72205712854.csv\n",
      "SFB https://www.ncei.noaa.gov/data/global-hourly/access/2016/72205712854.csv\n",
      "SFB https://www.ncei.noaa.gov/data/global-hourly/access/2017/72205712854.csv\n",
      "SFB https://www.ncei.noaa.gov/data/global-hourly/access/2018/72205712854.csv\n",
      "SFB https://www.ncei.noaa.gov/data/global-hourly/access/2019/72205712854.csv\n",
      "SFB https://www.ncei.noaa.gov/data/global-hourly/access/2020/72205712854.csv\n",
      "SFB https://www.ncei.noaa.gov/data/global-hourly/access/2021/72205712854.csv\n",
      "SFB https://www.ncei.noaa.gov/data/global-hourly/access/2022/72205712854.csv\n",
      "SFB https://www.ncei.noaa.gov/data/global-hourly/access/2023/72205712854.csv\n",
      "RDU https://www.ncei.noaa.gov/data/global-hourly/access/2010/72306013722.csv\n",
      "RDU https://www.ncei.noaa.gov/data/global-hourly/access/2011/72306013722.csv\n",
      "RDU https://www.ncei.noaa.gov/data/global-hourly/access/2012/72306013722.csv\n",
      "RDU https://www.ncei.noaa.gov/data/global-hourly/access/2013/72306013722.csv\n",
      "RDU https://www.ncei.noaa.gov/data/global-hourly/access/2014/72306013722.csv\n",
      "RDU https://www.ncei.noaa.gov/data/global-hourly/access/2015/72306013722.csv\n",
      "RDU https://www.ncei.noaa.gov/data/global-hourly/access/2016/72306013722.csv\n",
      "RDU https://www.ncei.noaa.gov/data/global-hourly/access/2017/72306013722.csv\n",
      "RDU https://www.ncei.noaa.gov/data/global-hourly/access/2018/72306013722.csv\n",
      "RDU https://www.ncei.noaa.gov/data/global-hourly/access/2019/72306013722.csv\n",
      "RDU https://www.ncei.noaa.gov/data/global-hourly/access/2020/72306013722.csv\n",
      "RDU https://www.ncei.noaa.gov/data/global-hourly/access/2021/72306013722.csv\n",
      "RDU https://www.ncei.noaa.gov/data/global-hourly/access/2022/72306013722.csv\n",
      "RDU https://www.ncei.noaa.gov/data/global-hourly/access/2023/72306013722.csv\n",
      "SRQ https://www.ncei.noaa.gov/data/global-hourly/access/2010/72211512871.csv\n",
      "SRQ https://www.ncei.noaa.gov/data/global-hourly/access/2011/72211512871.csv\n"
     ]
    },
    {
     "name": "stderr",
     "output_type": "stream",
     "text": [
      "/tmp/ipykernel_2379591/3100021501.py:26: DtypeWarning: Columns (2) have mixed types. Specify dtype option on import or set low_memory=False.\n",
      "  df = pd.read_csv(file_url, usecols=columns_to_consider)\n"
     ]
    },
    {
     "name": "stdout",
     "output_type": "stream",
     "text": [
      "SRQ https://www.ncei.noaa.gov/data/global-hourly/access/2012/72211512871.csv\n",
      "SRQ https://www.ncei.noaa.gov/data/global-hourly/access/2013/72211512871.csv\n",
      "SRQ https://www.ncei.noaa.gov/data/global-hourly/access/2014/72211512871.csv\n",
      "SRQ https://www.ncei.noaa.gov/data/global-hourly/access/2015/72211512871.csv\n",
      "SRQ https://www.ncei.noaa.gov/data/global-hourly/access/2016/72211512871.csv\n",
      "SRQ https://www.ncei.noaa.gov/data/global-hourly/access/2017/72211512871.csv\n",
      "SRQ https://www.ncei.noaa.gov/data/global-hourly/access/2018/72211512871.csv\n",
      "SRQ https://www.ncei.noaa.gov/data/global-hourly/access/2019/72211512871.csv\n",
      "SRQ https://www.ncei.noaa.gov/data/global-hourly/access/2020/72211512871.csv\n",
      "SRQ https://www.ncei.noaa.gov/data/global-hourly/access/2021/72211512871.csv\n",
      "SRQ https://www.ncei.noaa.gov/data/global-hourly/access/2022/72211512871.csv\n",
      "SRQ https://www.ncei.noaa.gov/data/global-hourly/access/2023/72211512871.csv\n",
      "CVG https://www.ncei.noaa.gov/data/global-hourly/access/2010/72421093814.csv\n",
      "CVG https://www.ncei.noaa.gov/data/global-hourly/access/2011/72421093814.csv\n",
      "CVG https://www.ncei.noaa.gov/data/global-hourly/access/2012/72421093814.csv\n",
      "CVG https://www.ncei.noaa.gov/data/global-hourly/access/2013/72421093814.csv\n",
      "CVG https://www.ncei.noaa.gov/data/global-hourly/access/2014/72421093814.csv\n",
      "CVG https://www.ncei.noaa.gov/data/global-hourly/access/2015/72421093814.csv\n",
      "CVG https://www.ncei.noaa.gov/data/global-hourly/access/2016/72421093814.csv\n",
      "CVG https://www.ncei.noaa.gov/data/global-hourly/access/2017/72421093814.csv\n",
      "CVG https://www.ncei.noaa.gov/data/global-hourly/access/2018/72421093814.csv\n",
      "CVG https://www.ncei.noaa.gov/data/global-hourly/access/2019/72421093814.csv\n",
      "CVG https://www.ncei.noaa.gov/data/global-hourly/access/2020/72421093814.csv\n",
      "CVG https://www.ncei.noaa.gov/data/global-hourly/access/2021/72421093814.csv\n",
      "CVG https://www.ncei.noaa.gov/data/global-hourly/access/2022/72421093814.csv\n",
      "CVG https://www.ncei.noaa.gov/data/global-hourly/access/2023/72421093814.csv\n",
      "RSW https://www.ncei.noaa.gov/data/global-hourly/access/2010/72210812894.csv\n",
      "RSW https://www.ncei.noaa.gov/data/global-hourly/access/2011/72210812894.csv\n"
     ]
    },
    {
     "name": "stderr",
     "output_type": "stream",
     "text": [
      "/tmp/ipykernel_2379591/3100021501.py:26: DtypeWarning: Columns (2) have mixed types. Specify dtype option on import or set low_memory=False.\n",
      "  df = pd.read_csv(file_url, usecols=columns_to_consider)\n"
     ]
    },
    {
     "name": "stdout",
     "output_type": "stream",
     "text": [
      "RSW https://www.ncei.noaa.gov/data/global-hourly/access/2012/72210812894.csv\n",
      "RSW https://www.ncei.noaa.gov/data/global-hourly/access/2013/72210812894.csv\n",
      "RSW https://www.ncei.noaa.gov/data/global-hourly/access/2014/72210812894.csv\n",
      "RSW https://www.ncei.noaa.gov/data/global-hourly/access/2015/72210812894.csv\n",
      "RSW https://www.ncei.noaa.gov/data/global-hourly/access/2016/72210812894.csv\n",
      "RSW https://www.ncei.noaa.gov/data/global-hourly/access/2017/72210812894.csv\n",
      "RSW https://www.ncei.noaa.gov/data/global-hourly/access/2018/72210812894.csv\n",
      "RSW https://www.ncei.noaa.gov/data/global-hourly/access/2019/72210812894.csv\n",
      "RSW https://www.ncei.noaa.gov/data/global-hourly/access/2020/72210812894.csv\n",
      "RSW https://www.ncei.noaa.gov/data/global-hourly/access/2021/72210812894.csv\n",
      "RSW https://www.ncei.noaa.gov/data/global-hourly/access/2022/72210812894.csv\n",
      "RSW https://www.ncei.noaa.gov/data/global-hourly/access/2023/72210812894.csv\n",
      "TPA https://www.ncei.noaa.gov/data/global-hourly/access/2010/72211012842.csv\n",
      "TPA https://www.ncei.noaa.gov/data/global-hourly/access/2011/72211012842.csv\n",
      "TPA https://www.ncei.noaa.gov/data/global-hourly/access/2012/72211012842.csv\n",
      "TPA https://www.ncei.noaa.gov/data/global-hourly/access/2013/72211012842.csv\n",
      "TPA https://www.ncei.noaa.gov/data/global-hourly/access/2014/72211012842.csv\n",
      "TPA https://www.ncei.noaa.gov/data/global-hourly/access/2015/72211012842.csv\n",
      "TPA https://www.ncei.noaa.gov/data/global-hourly/access/2016/72211012842.csv\n",
      "TPA https://www.ncei.noaa.gov/data/global-hourly/access/2017/72211012842.csv\n",
      "TPA https://www.ncei.noaa.gov/data/global-hourly/access/2018/72211012842.csv\n",
      "TPA https://www.ncei.noaa.gov/data/global-hourly/access/2019/72211012842.csv\n",
      "TPA https://www.ncei.noaa.gov/data/global-hourly/access/2020/72211012842.csv\n",
      "TPA https://www.ncei.noaa.gov/data/global-hourly/access/2021/72211012842.csv\n",
      "TPA https://www.ncei.noaa.gov/data/global-hourly/access/2022/72211012842.csv\n",
      "TPA https://www.ncei.noaa.gov/data/global-hourly/access/2023/72211012842.csv\n",
      "PGD https://www.ncei.noaa.gov/data/global-hourly/access/2010/72203412812.csv\n",
      "PGD https://www.ncei.noaa.gov/data/global-hourly/access/2011/72203412812.csv\n"
     ]
    },
    {
     "name": "stderr",
     "output_type": "stream",
     "text": [
      "/tmp/ipykernel_2379591/3100021501.py:26: DtypeWarning: Columns (2) have mixed types. Specify dtype option on import or set low_memory=False.\n",
      "  df = pd.read_csv(file_url, usecols=columns_to_consider)\n"
     ]
    },
    {
     "name": "stdout",
     "output_type": "stream",
     "text": [
      "PGD https://www.ncei.noaa.gov/data/global-hourly/access/2012/72203412812.csv\n",
      "PGD https://www.ncei.noaa.gov/data/global-hourly/access/2013/72203412812.csv\n",
      "PGD https://www.ncei.noaa.gov/data/global-hourly/access/2014/72203412812.csv\n",
      "PGD https://www.ncei.noaa.gov/data/global-hourly/access/2015/72203412812.csv\n",
      "PGD https://www.ncei.noaa.gov/data/global-hourly/access/2016/72203412812.csv\n",
      "PGD https://www.ncei.noaa.gov/data/global-hourly/access/2017/72203412812.csv\n"
     ]
    },
    {
     "name": "stderr",
     "output_type": "stream",
     "text": [
      "/tmp/ipykernel_2379591/3100021501.py:26: DtypeWarning: Columns (2) have mixed types. Specify dtype option on import or set low_memory=False.\n",
      "  df = pd.read_csv(file_url, usecols=columns_to_consider)\n"
     ]
    },
    {
     "name": "stdout",
     "output_type": "stream",
     "text": [
      "PGD https://www.ncei.noaa.gov/data/global-hourly/access/2018/72203412812.csv\n",
      "PGD https://www.ncei.noaa.gov/data/global-hourly/access/2019/72203412812.csv\n",
      "PGD https://www.ncei.noaa.gov/data/global-hourly/access/2020/72203412812.csv\n",
      "PGD https://www.ncei.noaa.gov/data/global-hourly/access/2021/72203412812.csv\n",
      "PGD https://www.ncei.noaa.gov/data/global-hourly/access/2022/72203412812.csv\n",
      "PGD https://www.ncei.noaa.gov/data/global-hourly/access/2023/72203412812.csv\n",
      "MYR https://www.ncei.noaa.gov/data/global-hourly/access/2010/74791013717.csv\n",
      "MYR https://www.ncei.noaa.gov/data/global-hourly/access/2011/74791013717.csv\n",
      "MYR https://www.ncei.noaa.gov/data/global-hourly/access/2012/74791013717.csv\n",
      "MYR https://www.ncei.noaa.gov/data/global-hourly/access/2013/74791013717.csv\n",
      "MYR https://www.ncei.noaa.gov/data/global-hourly/access/2014/74791013717.csv\n",
      "MYR https://www.ncei.noaa.gov/data/global-hourly/access/2015/74791013717.csv\n",
      "MYR https://www.ncei.noaa.gov/data/global-hourly/access/2016/74791013717.csv\n",
      "MYR https://www.ncei.noaa.gov/data/global-hourly/access/2017/74791013717.csv\n",
      "MYR https://www.ncei.noaa.gov/data/global-hourly/access/2018/74791013717.csv\n",
      "MYR https://www.ncei.noaa.gov/data/global-hourly/access/2019/74791013717.csv\n",
      "MYR https://www.ncei.noaa.gov/data/global-hourly/access/2020/74791013717.csv\n",
      "MYR https://www.ncei.noaa.gov/data/global-hourly/access/2021/74791013717.csv\n",
      "MYR https://www.ncei.noaa.gov/data/global-hourly/access/2022/74791013717.csv\n",
      "MYR https://www.ncei.noaa.gov/data/global-hourly/access/2023/74791013717.csv\n",
      "MIA https://www.ncei.noaa.gov/data/global-hourly/access/2010/72202012839.csv\n",
      "MIA https://www.ncei.noaa.gov/data/global-hourly/access/2011/72202012839.csv\n",
      "MIA https://www.ncei.noaa.gov/data/global-hourly/access/2012/72202012839.csv\n",
      "MIA https://www.ncei.noaa.gov/data/global-hourly/access/2013/72202012839.csv\n",
      "MIA https://www.ncei.noaa.gov/data/global-hourly/access/2014/72202012839.csv\n",
      "MIA https://www.ncei.noaa.gov/data/global-hourly/access/2015/72202012839.csv\n",
      "MIA https://www.ncei.noaa.gov/data/global-hourly/access/2016/72202012839.csv\n",
      "MIA https://www.ncei.noaa.gov/data/global-hourly/access/2017/72202012839.csv\n",
      "MIA https://www.ncei.noaa.gov/data/global-hourly/access/2018/72202012839.csv\n",
      "MIA https://www.ncei.noaa.gov/data/global-hourly/access/2019/72202012839.csv\n",
      "MIA https://www.ncei.noaa.gov/data/global-hourly/access/2020/72202012839.csv\n",
      "MIA https://www.ncei.noaa.gov/data/global-hourly/access/2021/72202012839.csv\n",
      "MIA https://www.ncei.noaa.gov/data/global-hourly/access/2022/72202012839.csv\n",
      "MIA https://www.ncei.noaa.gov/data/global-hourly/access/2023/72202012839.csv\n"
     ]
    }
   ],
   "source": [
    "import os\n",
    "import pandas as pd\n",
    "import urllib.request\n",
    "\n",
    "WEATHER_REPO = './weather/'\n",
    "years = list(range(2010, 2024))\n",
    "BASE_LINK = 'https://www.ncei.noaa.gov/data/global-hourly/access/'\n",
    "airports = airport_to_csv_mapping.keys()\n",
    "\n",
    "# Specify columns you want to consider\n",
    "columns_to_consider = [\"STATION\",\"DATE\",\"SOURCE\",\"LATITUDE\",\"LONGITUDE\",\"ELEVATION\",\"NAME\",\n",
    "                       \"REPORT_TYPE\",\"CALL_SIGN\",\"QUALITY_CONTROL\",\"WND\",\"CIG\",\"VIS\",\"TMP\",\"DEW\",\"SLP\"]\n",
    "\n",
    "\n",
    "# Dictionary to store DataFrame for each airport\n",
    "airport_dfs = {}\n",
    "\n",
    "for ap in airports:\n",
    "    # List to store DataFrames for each year\n",
    "    dfs_per_year = []\n",
    "    \n",
    "    for y in years:\n",
    "        try:\n",
    "            file_url = BASE_LINK + str(y) + \"/\" + airport_to_csv_mapping[ap]\n",
    "            # Read only specific columns from CSV data directly from URL into DataFrame\n",
    "            df = pd.read_csv(file_url, usecols=columns_to_consider)\n",
    "            # Append DataFrame to list\n",
    "            dfs_per_year.append(df)\n",
    "            print(ap, file_url)\n",
    "        except Exception as e:\n",
    "            print(e)\n",
    "            print(ap, file_url)\n",
    "\n",
    "    # Concatenate DataFrames for each year into a single DataFrame\n",
    "    airport_df = pd.concat(dfs_per_year, ignore_index=True)\n",
    "    # Store DataFrame in dictionary\n",
    "    airport_dfs[ap] = airport_df\n",
    "\n",
    "    # Save the concatenated DataFrame to a CSV file in the weather repository\n",
    "    file_name = os.path.join(WEATHER_REPO, f\"{ap}_weather_data.csv\")\n",
    "    airport_df.to_csv(file_name, index=False)\n",
    "\n",
    "# Access DataFrame for a specific airport\n",
    "# For example, to access DataFrame for airport 'JFK':\n",
    "# jfk_df = airport_dfs['JFK']\n"
   ]
  },
  {
   "cell_type": "code",
   "execution_count": null,
   "id": "7cf01508",
   "metadata": {},
   "outputs": [],
   "source": []
  },
  {
   "cell_type": "code",
   "execution_count": null,
   "id": "1a388031",
   "metadata": {},
   "outputs": [],
   "source": []
  },
  {
   "cell_type": "code",
   "execution_count": null,
   "id": "bdff36f5",
   "metadata": {},
   "outputs": [],
   "source": []
  },
  {
   "cell_type": "code",
   "execution_count": null,
   "id": "e8b277c3",
   "metadata": {},
   "outputs": [],
   "source": []
  },
  {
   "cell_type": "code",
   "execution_count": null,
   "id": "8730ddbb",
   "metadata": {},
   "outputs": [],
   "source": []
  },
  {
   "cell_type": "code",
   "execution_count": null,
   "id": "380fdcc7",
   "metadata": {},
   "outputs": [],
   "source": []
  },
  {
   "cell_type": "code",
   "execution_count": null,
   "id": "7b4cd605",
   "metadata": {},
   "outputs": [],
   "source": []
  },
  {
   "cell_type": "code",
   "execution_count": null,
   "id": "4092ee2d",
   "metadata": {},
   "outputs": [],
   "source": []
  },
  {
   "cell_type": "code",
   "execution_count": null,
   "id": "133736e9",
   "metadata": {},
   "outputs": [],
   "source": []
  },
  {
   "cell_type": "code",
   "execution_count": null,
   "id": "63a531db",
   "metadata": {},
   "outputs": [],
   "source": []
  },
  {
   "cell_type": "code",
   "execution_count": null,
   "id": "07175200",
   "metadata": {},
   "outputs": [],
   "source": []
  },
  {
   "cell_type": "code",
   "execution_count": null,
   "id": "45d45f9d",
   "metadata": {},
   "outputs": [],
   "source": []
  },
  {
   "cell_type": "code",
   "execution_count": null,
   "id": "dfb96958",
   "metadata": {},
   "outputs": [],
   "source": []
  }
 ],
 "metadata": {
  "kernelspec": {
   "display_name": "Python 3 (ipykernel)",
   "language": "python",
   "name": "python3"
  },
  "language_info": {
   "codemirror_mode": {
    "name": "ipython",
    "version": 3
   },
   "file_extension": ".py",
   "mimetype": "text/x-python",
   "name": "python",
   "nbconvert_exporter": "python",
   "pygments_lexer": "ipython3",
   "version": "3.9.18"
  }
 },
 "nbformat": 4,
 "nbformat_minor": 5
}
